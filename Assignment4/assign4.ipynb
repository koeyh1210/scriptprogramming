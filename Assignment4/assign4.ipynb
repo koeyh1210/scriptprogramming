{
 "cells": [
  {
   "cell_type": "code",
   "execution_count": 30,
   "metadata": {
    "collapsed": false
   },
   "outputs": [
    {
     "name": "stdout",
     "output_type": "stream",
     "text": [
      "write s1.txt\n",
      "write s2.txt\n",
      "write s3.txt\n"
     ]
    }
   ],
   "source": [
    "textS = open('s.txt', 'r')\n",
    "\n",
    "wordList = []\n",
    "\n",
    "for line in textS:\n",
    "    wordList.append(line.split())\n",
    "textS.close()\n",
    "\n",
    "#print wordList\n",
    "#s1.txt 저장\n",
    "wordList.sort()\n",
    "out = \"\"\n",
    "for word in wordList:\n",
    "    out = out + word[0] + ' ' + word[1]+'\\n'\n",
    "    \n",
    "out1 = open('s1.txt', 'w')\n",
    "out1.write(out)\n",
    "out1.close()\n",
    "print \"write s1.txt\"\n",
    "#print out\n",
    "#print wordList\n",
    "\n",
    "\n",
    "#s2.txt 저장\n",
    "wordList.sort(key=lambda word : word[1])\n",
    "out = \"\"\n",
    "for word in wordList:\n",
    "    out = out + word[0] + ' ' + word[1]+'\\n'\n",
    "\n",
    "out2 = open('s2.txt', 'w')\n",
    "out2.write(out)\n",
    "out2.close()\n",
    "\n",
    "print \"write s2.txt\"\n",
    "#print wordList\n",
    "\n",
    "#s3.txt 저장\n",
    "s = open('s.txt', 'r').read().split()\n",
    "\n",
    "\n",
    "out3 = open('s3.txt', 'w')\n",
    "output = \"\"\n",
    "\n",
    "i=0\n",
    "for x in s:\n",
    "    output += x\n",
    "    if i%3==2:\n",
    "        output +='\\n'\n",
    "    else:\n",
    "        output+= ' '\n",
    "    i+=1\n",
    "#print output\n",
    "out3.write(output)\n",
    "out3.close()\n",
    "\n",
    "print \"write s3.txt\""
   ]
  },
  {
   "cell_type": "markdown",
   "metadata": {},
   "source": [
    "### [1번 문제] \n",
    "리스트와 파일입출력을 사용해 문제를 해결했습니다."
   ]
  },
  {
   "cell_type": "code",
   "execution_count": 56,
   "metadata": {
    "collapsed": false
   },
   "outputs": [
    {
     "name": "stdout",
     "output_type": "stream",
     "text": [
      "Welcome to Our Service\n",
      "1.Sign Up\n",
      "2.Sign In\n",
      "3.Quit\n",
      "2\n",
      "ID : sik1210\n",
      "password : a\n",
      "Sorry, the entered password is not correct.\n",
      "password : a\n",
      "Sorry, the entered password is not correct.\n",
      "password : 1210\n",
      "Hello hsh\n"
     ]
    }
   ],
   "source": [
    "import sha\n",
    "import os\n",
    "\n",
    "filePath=\"access.txt\"\n",
    "\n",
    "def selectMenu():\n",
    "    service  = input(\"Welcome to Our Service\\n1.Sign Up\\n2.Sign In\\n3.Quit\\n\")\n",
    "    \n",
    "    if service == 1:\n",
    "        #sign up\n",
    "        userId = raw_input(\"ID : \")\n",
    "        password = raw_input(\"password : \")\n",
    "        name = raw_input(\"name : \")\n",
    "        school = raw_input(\"school : \")\n",
    "        \n",
    "        #password encording\n",
    "        password = sha.new(password).hexdigest()\n",
    "        \n",
    "        \n",
    "        #read access.txt\n",
    "\n",
    "        if os.access(filePath, os.F_OK):\n",
    "            access = open(filePath, 'r')\n",
    "            \n",
    "            userList = access.readlines()\n",
    "            \n",
    "            #userList parsing\n",
    "            userList = parseUserList(userList)\n",
    "        \n",
    "            userId = checkIdAndInput(userId, userList)    \n",
    "        \n",
    "            \n",
    "            access.close()\n",
    "            access = open(\"access.txt\", 'a')\n",
    "            access.write('\\n')\n",
    "            access.write(userId + \" : \" + password+', ' + name+', '+school)\n",
    "                \n",
    "        else:\n",
    "            access = open(\"access.txt\", 'w')\n",
    "            access.write(userId + \" : \" + password+', ' + name+', '+school)\n",
    "        \n",
    "    elif service == 2:\n",
    "        signIn()\n",
    "    elif service == 3:\n",
    "        #Quit\n",
    "        return None\n",
    "    else :\n",
    "        selectMenu()\n",
    "        \n",
    "def parseUserList(userList):\n",
    "    parsedUserList=[]\n",
    "    for user in userList:\n",
    "        parsedUserList.append(user.split())\n",
    "        \n",
    "    return parsedUserList\n",
    "\n",
    "def checkIdAndInput(userId, userList):\n",
    "    #check userId is in userList\n",
    "    for user in userList:\n",
    "        if userId == user[0]:\n",
    "            print \"Sorry, the entered ID is already used.\"\n",
    "            userId = raw_input(\"ID: \")\n",
    "        \n",
    "            return checkIdAndInput(userId, userList)\n",
    "    return userId\n",
    "\n",
    "\n",
    "\n",
    "def signIn():\n",
    "    if os.access(filePath, os.F_OK):\n",
    "        userId = inputId()\n",
    "        userPass = inputPass()\n",
    "\n",
    "        #read file\n",
    "        access = open(filePath, 'r')\n",
    "        userList = access.readlines()\n",
    "        \n",
    "        #userList parsing\n",
    "        userList = parseUserList(userList)\n",
    "\n",
    "        findResult = findUser(userId, userPass, userList)\n",
    "\n",
    "        if findResult == None:\n",
    "            print \"Sorry, you are not a registered member.\"\n",
    "        else:\n",
    "            print \"Hello \" + findResult\n",
    "\n",
    "    else:\n",
    "        print \"회원가입한 유저가 존재하지 않습니다.\"\n",
    "    \n",
    "\n",
    "\n",
    "def findUser(userId, userPass, userList):\n",
    "    for user in userList:\n",
    "        if userId == user[0] :\n",
    "            uPass  = user[2][:len(user[2])-1]\n",
    "            uName = user[3][:len(user[3])-1]\n",
    "            if uPass == userPass:\n",
    "                return uName\n",
    "            else:\n",
    "                print \"Sorry, the entered password is not correct.\"\n",
    "                userPass = inputPass()\n",
    "                return findUser(userId, userPass, userList)\n",
    "    return None\n",
    "\n",
    "\n",
    "def inputId():\n",
    "    userId = raw_input(\"ID : \")\n",
    "    return userId\n",
    "\n",
    "def inputPass():\n",
    "    password = raw_input(\"password : \")\n",
    "        \n",
    "    #password encording\n",
    "    password = sha.new(password).hexdigest()\n",
    "\n",
    "    return password\n",
    "        \n",
    "selectMenu()\n",
    "\n",
    "\n"
   ]
  },
  {
   "cell_type": "markdown",
   "metadata": {},
   "source": [
    "### 2번 문제\n",
    "\n",
    "회원가입, 로그인 기능을 파일입출력을 통해서 구현했습니다."
   ]
  },
  {
   "cell_type": "code",
   "execution_count": 91,
   "metadata": {
    "collapsed": false
   },
   "outputs": [
    {
     "name": "stdout",
     "output_type": "stream",
     "text": [
      "[1, 1.2, 1.4, 1.6, 1.8]\n"
     ]
    }
   ],
   "source": [
    "def frange(start, stop=0.0, step=0.1):\n",
    "    frangeList = []\n",
    "\n",
    "    if stop == 0:\n",
    "        stop = float(start)\n",
    "        start = 0.0\n",
    "\n",
    "    \n",
    "    while True:\n",
    "        frangeList.append(start)\n",
    "        start = round(start+step, 2)\n",
    "\n",
    "        if start >= stop:\n",
    "            break\n",
    "\n",
    "    return frangeList\n",
    "\n",
    "print frange(1, 2, 0.2)\n"
   ]
  },
  {
   "cell_type": "markdown",
   "metadata": {},
   "source": [
    "### 3번문제\n",
    "\n",
    "실수를 반올림 하지 않을 시 실수가 정확하게 표현되지 않는 문제가 있어서 반올림을 해주었습니다."
   ]
  },
  {
   "cell_type": "code",
   "execution_count": 103,
   "metadata": {
    "collapsed": false,
    "scrolled": true
   },
   "outputs": [
    {
     "name": "stdout",
     "output_type": "stream",
     "text": [
      "0\n",
      "-2\n",
      "8\n"
     ]
    }
   ],
   "source": [
    "def sum(*args):\n",
    "    sumVal = 0\n",
    "    \n",
    "    for arg in args:\n",
    "        sumVal += arg\n",
    "    return sumVal\n",
    "\n",
    "print sum()\n",
    "print sum(-5, 3)\n",
    "print sum(1, 2, 5)"
   ]
  },
  {
   "cell_type": "markdown",
   "metadata": {},
   "source": [
    "### 4번문제\n",
    "\n",
    "가변인수를 통해서 인자의 합을 반환하는 함수를 작성했습니다."
   ]
  },
  {
   "cell_type": "code",
   "execution_count": 104,
   "metadata": {
    "collapsed": false
   },
   "outputs": [
    {
     "name": "stdout",
     "output_type": "stream",
     "text": [
      "ASAP\n"
     ]
    }
   ],
   "source": [
    "def myinitial(s):\n",
    "    splitList = s.split()\n",
    "    splitList = map(lambda x:x[0].upper(), splitList)\n",
    "    return ''.join(splitList)\n",
    "\n",
    "print myinitial(\"as soon as possible\")\n"
   ]
  },
  {
   "cell_type": "markdown",
   "metadata": {},
   "source": [
    "### 5번문제\n",
    "\n",
    "여러 단어로 이루어진 문자열을 입력받아 각 단어의 첫글자로 이루어진 단어를 대문자로 출력하는 myinitial() 함수\n"
   ]
  },
  {
   "cell_type": "code",
   "execution_count": 130,
   "metadata": {
    "collapsed": false
   },
   "outputs": [
    {
     "name": "stdout",
     "output_type": "stream",
     "text": [
      "6\n",
      "120\n"
     ]
    },
    {
     "ename": "RuntimeError",
     "evalue": "maximum recursion depth exceeded",
     "output_type": "error",
     "traceback": [
      "\u001b[0;31m---------------------------------------------------------------------------\u001b[0m",
      "\u001b[0;31mRuntimeError\u001b[0m                              Traceback (most recent call last)",
      "\u001b[0;32m<ipython-input-130-d0574848136d>\u001b[0m in \u001b[0;36m<module>\u001b[0;34m()\u001b[0m\n\u001b[1;32m      7\u001b[0m \u001b[0;32mprint\u001b[0m \u001b[0mmyfact\u001b[0m\u001b[0;34m(\u001b[0m\u001b[0;36m3\u001b[0m\u001b[0;34m)\u001b[0m\u001b[0;34m\u001b[0m\u001b[0m\n\u001b[1;32m      8\u001b[0m \u001b[0;32mprint\u001b[0m \u001b[0mmyfact\u001b[0m\u001b[0;34m(\u001b[0m\u001b[0;36m5\u001b[0m\u001b[0;34m)\u001b[0m\u001b[0;34m\u001b[0m\u001b[0m\n\u001b[0;32m----> 9\u001b[0;31m \u001b[0;32mprint\u001b[0m \u001b[0mmyfact\u001b[0m\u001b[0;34m(\u001b[0m\u001b[0;36m977\u001b[0m\u001b[0;34m)\u001b[0m\u001b[0;34m\u001b[0m\u001b[0m\n\u001b[0m",
      "\u001b[0;32m<ipython-input-130-d0574848136d>\u001b[0m in \u001b[0;36mmyfact\u001b[0;34m(n)\u001b[0m\n\u001b[1;32m      1\u001b[0m \u001b[0;32mdef\u001b[0m \u001b[0mmyfact\u001b[0m\u001b[0;34m(\u001b[0m\u001b[0mn\u001b[0m\u001b[0;34m)\u001b[0m\u001b[0;34m:\u001b[0m\u001b[0;34m\u001b[0m\u001b[0m\n\u001b[1;32m      2\u001b[0m     \u001b[0;32mif\u001b[0m \u001b[0mn\u001b[0m\u001b[0;34m-\u001b[0m\u001b[0;36m1\u001b[0m \u001b[0;34m>\u001b[0m \u001b[0;36m0\u001b[0m\u001b[0;34m:\u001b[0m\u001b[0;34m\u001b[0m\u001b[0m\n\u001b[0;32m----> 3\u001b[0;31m         \u001b[0;32mreturn\u001b[0m \u001b[0mn\u001b[0m \u001b[0;34m*\u001b[0m \u001b[0mmyfact\u001b[0m\u001b[0;34m(\u001b[0m\u001b[0mn\u001b[0m\u001b[0;34m-\u001b[0m\u001b[0;36m1\u001b[0m\u001b[0;34m)\u001b[0m\u001b[0;34m\u001b[0m\u001b[0m\n\u001b[0m\u001b[1;32m      4\u001b[0m     \u001b[0;32melse\u001b[0m \u001b[0;34m:\u001b[0m\u001b[0;34m\u001b[0m\u001b[0m\n\u001b[1;32m      5\u001b[0m         \u001b[0;32mreturn\u001b[0m \u001b[0mn\u001b[0m\u001b[0;34m\u001b[0m\u001b[0m\n",
      "... last 1 frames repeated, from the frame below ...\n",
      "\u001b[0;32m<ipython-input-130-d0574848136d>\u001b[0m in \u001b[0;36mmyfact\u001b[0;34m(n)\u001b[0m\n\u001b[1;32m      1\u001b[0m \u001b[0;32mdef\u001b[0m \u001b[0mmyfact\u001b[0m\u001b[0;34m(\u001b[0m\u001b[0mn\u001b[0m\u001b[0;34m)\u001b[0m\u001b[0;34m:\u001b[0m\u001b[0;34m\u001b[0m\u001b[0m\n\u001b[1;32m      2\u001b[0m     \u001b[0;32mif\u001b[0m \u001b[0mn\u001b[0m\u001b[0;34m-\u001b[0m\u001b[0;36m1\u001b[0m \u001b[0;34m>\u001b[0m \u001b[0;36m0\u001b[0m\u001b[0;34m:\u001b[0m\u001b[0;34m\u001b[0m\u001b[0m\n\u001b[0;32m----> 3\u001b[0;31m         \u001b[0;32mreturn\u001b[0m \u001b[0mn\u001b[0m \u001b[0;34m*\u001b[0m \u001b[0mmyfact\u001b[0m\u001b[0;34m(\u001b[0m\u001b[0mn\u001b[0m\u001b[0;34m-\u001b[0m\u001b[0;36m1\u001b[0m\u001b[0;34m)\u001b[0m\u001b[0;34m\u001b[0m\u001b[0m\n\u001b[0m\u001b[1;32m      4\u001b[0m     \u001b[0;32melse\u001b[0m \u001b[0;34m:\u001b[0m\u001b[0;34m\u001b[0m\u001b[0m\n\u001b[1;32m      5\u001b[0m         \u001b[0;32mreturn\u001b[0m \u001b[0mn\u001b[0m\u001b[0;34m\u001b[0m\u001b[0m\n",
      "\u001b[0;31mRuntimeError\u001b[0m: maximum recursion depth exceeded"
     ]
    }
   ],
   "source": [
    "def myfact(n):\n",
    "    if n-1 > 0:\n",
    "        return n * myfact(n-1)\n",
    "    else :\n",
    "        return n\n",
    "    \n",
    "print myfact(3)\n",
    "print myfact(5)\n",
    "print myfact(977)"
   ]
  },
  {
   "cell_type": "markdown",
   "metadata": {},
   "source": [
    "### 5번문제\n",
    "\n",
    "factorial을 구현한 함수.\n",
    "n을 일정 값 이상으로 입력하면 maximum recursion depth exceeded가 발생하는 것을 확인 할 수 있었습니다."
   ]
  },
  {
   "cell_type": "code",
   "execution_count": 2,
   "metadata": {
    "collapsed": false
   },
   "outputs": [
    {
     "name": "stdout",
     "output_type": "stream",
     "text": [
      "10\n"
     ]
    }
   ],
   "source": [
    "print 10"
   ]
  },
  {
   "cell_type": "code",
   "execution_count": 4,
   "metadata": {
    "collapsed": false
   },
   "outputs": [
    {
     "name": "stdout",
     "output_type": "stream",
     "text": [
      "142913828922\n"
     ]
    }
   ],
   "source": [
    "def rwh_primes1(n):\n",
    "    # http://stackoverflow.com/questions/2068372/fastest-way-to-list-all-primes-below-n-in-python/3035188#3035188\n",
    "    \"\"\" Returns  a list of primes < n \"\"\"\n",
    "    sieve = [True] * (n/2)\n",
    "    for i in xrange(3,int(n**0.5)+1,2):\n",
    "        if sieve[i/2]:\n",
    "            sieve[i*i/2::i] = [False] * ((n-i*i-1)/(2*i)+1)\n",
    "    return [2] + [2*i+1 for i in xrange(1,n/2) if sieve[i]]\n",
    "\n",
    "\n",
    "print sum(rwh_primes1(2000000))"
   ]
  },
  {
   "cell_type": "markdown",
   "metadata": {},
   "source": [
    "### 오일러 10번\n",
    "\n",
    "n이 상당히 크기 때문에 소수를 구하는 방법 중 가장 빠른 방법인 에라토네스의 체를 사용해 구현했습니다."
   ]
  },
  {
   "cell_type": "code",
   "execution_count": 38,
   "metadata": {
    "collapsed": false
   },
   "outputs": [
    {
     "name": "stdout",
     "output_type": "stream",
     "text": [
      "70600674\n"
     ]
    }
   ],
   "source": [
    "arrSize = 20\n",
    "numbers = \"\"\"08 02 22 97 38 15 00 40 00 75 04 05 07 78 52 12 50 77 91 08\n",
    "49 49 99 40 17 81 18 57 60 87 17 40 98 43 69 48 04 56 62 00\n",
    "81 49 31 73 55 79 14 29 93 71 40 67 53 88 30 03 49 13 36 65\n",
    "52 70 95 23 04 60 11 42 69 24 68 56 01 32 56 71 37 02 36 91\n",
    "22 31 16 71 51 67 63 89 41 92 36 54 22 40 40 28 66 33 13 80\n",
    "24 47 32 60 99 03 45 02 44 75 33 53 78 36 84 20 35 17 12 50\n",
    "32 98 81 28 64 23 67 10 26 38 40 67 59 54 70 66 18 38 64 70\n",
    "67 26 20 68 02 62 12 20 95 63 94 39 63 08 40 91 66 49 94 21\n",
    "24 55 58 05 66 73 99 26 97 17 78 78 96 83 14 88 34 89 63 72\n",
    "21 36 23 09 75 00 76 44 20 45 35 14 00 61 33 97 34 31 33 95\n",
    "78 17 53 28 22 75 31 67 15 94 03 80 04 62 16 14 09 53 56 92\n",
    "16 39 05 42 96 35 31 47 55 58 88 24 00 17 54 24 36 29 85 57\n",
    "86 56 00 48 35 71 89 07 05 44 44 37 44 60 21 58 51 54 17 58\n",
    "19 80 81 68 05 94 47 69 28 73 92 13 86 52 17 77 04 89 55 40\n",
    "04 52 08 83 97 35 99 16 07 97 57 32 16 26 26 79 33 27 98 66\n",
    "88 36 68 87 57 62 20 72 03 46 33 67 46 55 12 32 63 93 53 69\n",
    "04 42 16 73 38 25 39 11 24 94 72 18 08 46 29 32 40 62 76 36\n",
    "20 69 36 41 72 30 23 88 34 62 99 69 82 67 59 85 74 04 36 16\n",
    "20 73 35 29 78 31 90 01 74 31 49 71 48 86 81 16 23 57 05 54\n",
    "01 70 54 71 83 51 54 69 16 92 33 48 61 43 52 01 89 19 67 48\"\"\"\n",
    "\n",
    "arr = numbers.split('\\n')\n",
    "\n",
    "arr20x20 = []\n",
    "for li in arr:\n",
    "    arr20x20.append(li.split(' '))\n",
    "    \n",
    "\n",
    "\n",
    "#가로곱의 최대값\n",
    "horizontalMax = 0\n",
    "\n",
    "for i, v in enumerate(arr20x20):\n",
    "    for j, v in enumerate(v):\n",
    "        if j > arrSize-4:\n",
    "            break\n",
    "        \n",
    "        tempMax = 1\n",
    "        for k in range(4):\n",
    "            tempMax *= int(arr20x20[i][j+k])\n",
    "        \n",
    "        if tempMax > horizontalMax:\n",
    "            horizontalMax = tempMax\n",
    "            \n",
    "#print horizontalMax\n",
    "        \n",
    "#세로곱의 최대값\n",
    "verticalMax = 0\n",
    "for i, v in enumerate(arr20x20):\n",
    "    if i > arrSize-4:\n",
    "            break\n",
    "            \n",
    "    for j, v in enumerate(v):\n",
    "        tempMax = 1\n",
    "        for k in range(4):\n",
    "            tempMax *= int(arr20x20[i+k][j])\n",
    "        \n",
    "        if tempMax > verticalMax:\n",
    "            verticalMax = tempMax\n",
    "\n",
    "\n",
    "#print verticalMax\n",
    "#대각선 곱의 최대값\n",
    "rdigonalMax = 0\n",
    "for i, v in enumerate(arr20x20):\n",
    "    if i > arrSize-4:\n",
    "        break\n",
    "        \n",
    "    for j, v in enumerate(v):\n",
    "        if j > arrSize-4:\n",
    "            break\n",
    "        \n",
    "        tempMax = 1\n",
    "        for k in range(4):\n",
    "            tempMax *= int(arr20x20[i+k][j+k])\n",
    "        \n",
    "        if tempMax > rdigonalMax:\n",
    "            rdigonalMax = tempMax\n",
    "\n",
    "#print rdigonalMax\n",
    "\n",
    "#대각선 곱의 최대값\n",
    "ldigonalMax = 0\n",
    "for i, v in enumerate(arr20x20):\n",
    "    if i > arrSize - 4:\n",
    "        break\n",
    "        \n",
    "    for j, v in enumerate(v):\n",
    "        if j <=2:\n",
    "            continue\n",
    "        \n",
    "        tempMax = 1\n",
    "        for k in range(4):\n",
    "            tempMax *= int(arr20x20[i+k][j-k])\n",
    "        \n",
    "        if tempMax > ldigonalMax:\n",
    "            ldigonalMax = tempMax\n",
    "\n",
    "#print ldigonalMax\n",
    "\n",
    "print max(horizontalMax, verticalMax, ldigonalMax, rdigonalMax)\n"
   ]
  },
  {
   "cell_type": "markdown",
   "metadata": {},
   "source": [
    "### 오일러 11번"
   ]
  },
  {
   "cell_type": "code",
   "execution_count": 21,
   "metadata": {
    "collapsed": false
   },
   "outputs": [
    {
     "ename": "KeyboardInterrupt",
     "evalue": "",
     "output_type": "error",
     "traceback": [
      "\u001b[0;31m---------------------------------------------------------------------------\u001b[0m",
      "\u001b[0;31mKeyboardInterrupt\u001b[0m                         Traceback (most recent call last)",
      "\u001b[0;32m<ipython-input-21-02012a12b6b7>\u001b[0m in \u001b[0;36m<module>\u001b[0;34m()\u001b[0m\n\u001b[1;32m     17\u001b[0m         \u001b[0mtriNum\u001b[0m\u001b[0;34m+=\u001b[0m\u001b[0mj\u001b[0m\u001b[0;34m\u001b[0m\u001b[0m\n\u001b[1;32m     18\u001b[0m \u001b[0;34m\u001b[0m\u001b[0m\n\u001b[0;32m---> 19\u001b[0;31m     \u001b[0mdivisorNum\u001b[0m \u001b[0;34m=\u001b[0m \u001b[0mgetDivisorNum\u001b[0m\u001b[0;34m(\u001b[0m\u001b[0mtriNum\u001b[0m\u001b[0;34m)\u001b[0m\u001b[0;34m\u001b[0m\u001b[0m\n\u001b[0m\u001b[1;32m     20\u001b[0m     \u001b[0;32mif\u001b[0m \u001b[0mdivisorNum\u001b[0m \u001b[0;34m>=\u001b[0m \u001b[0;36m500\u001b[0m\u001b[0;34m:\u001b[0m\u001b[0;34m\u001b[0m\u001b[0m\n\u001b[1;32m     21\u001b[0m         \u001b[0;32mprint\u001b[0m \u001b[0mtriNum\u001b[0m\u001b[0;34m,\u001b[0m \u001b[0mdivisorNum\u001b[0m\u001b[0;34m\u001b[0m\u001b[0m\n",
      "\u001b[0;32m<ipython-input-21-02012a12b6b7>\u001b[0m in \u001b[0;36mgetDivisorNum\u001b[0;34m(n)\u001b[0m\n\u001b[1;32m      2\u001b[0m     \u001b[0mdivisorNum\u001b[0m\u001b[0;34m=\u001b[0m\u001b[0;36m0\u001b[0m\u001b[0;34m\u001b[0m\u001b[0m\n\u001b[1;32m      3\u001b[0m     \u001b[0;32mfor\u001b[0m \u001b[0mi\u001b[0m \u001b[0;32min\u001b[0m \u001b[0mxrange\u001b[0m\u001b[0;34m(\u001b[0m\u001b[0;36m1\u001b[0m\u001b[0;34m,\u001b[0m \u001b[0;34m(\u001b[0m\u001b[0mn\u001b[0m\u001b[0;34m/\u001b[0m\u001b[0;36m2\u001b[0m\u001b[0;34m)\u001b[0m\u001b[0;34m+\u001b[0m\u001b[0;36m1\u001b[0m\u001b[0;34m)\u001b[0m\u001b[0;34m:\u001b[0m\u001b[0;34m\u001b[0m\u001b[0m\n\u001b[0;32m----> 4\u001b[0;31m         \u001b[0;32mif\u001b[0m \u001b[0mn\u001b[0m\u001b[0;34m==\u001b[0m\u001b[0;36m0\u001b[0m\u001b[0;34m:\u001b[0m\u001b[0;34m\u001b[0m\u001b[0m\n\u001b[0m\u001b[1;32m      5\u001b[0m             \u001b[0;32mreturn\u001b[0m \u001b[0;36m1\u001b[0m\u001b[0;34m\u001b[0m\u001b[0m\n\u001b[1;32m      6\u001b[0m         \u001b[0;32mif\u001b[0m \u001b[0mn\u001b[0m\u001b[0;34m%\u001b[0m\u001b[0mi\u001b[0m\u001b[0;34m==\u001b[0m\u001b[0;36m0\u001b[0m\u001b[0;34m:\u001b[0m\u001b[0;34m\u001b[0m\u001b[0m\n",
      "\u001b[0;31mKeyboardInterrupt\u001b[0m: "
     ]
    }
   ],
   "source": [
    "def getDivisorNum(n):\n",
    "    divisorNum=0\n",
    "    for i in xrange(1, (n/2)+1):\n",
    "        if n==0:\n",
    "            return 1\n",
    "        if n%i==0:\n",
    "            divisorNum+=1\n",
    "            \n",
    "    return divisorNum+1\n",
    "\n",
    "triNum=0\n",
    "divisorNum = 0\n",
    "\n",
    "i = 1\n",
    "while True:\n",
    "    for j in xrange(1, i+1):\n",
    "        triNum+=j\n",
    "    \n",
    "    divisorNum = getDivisorNum(triNum)\n",
    "    if divisorNum >= 500:\n",
    "        print triNum, divisorNum\n",
    "    \n",
    "    triNum = 0\n",
    "    \n",
    "    i+=1\n",
    "    \n",
    "\n",
    "print \"done\""
   ]
  },
  {
   "cell_type": "markdown",
   "metadata": {},
   "source": [
    "### 오일러 12번"
   ]
  },
  {
   "cell_type": "code",
   "execution_count": 10,
   "metadata": {
    "collapsed": false
   },
   "outputs": [
    {
     "name": "stdout",
     "output_type": "stream",
     "text": [
      "5537376230\n"
     ]
    }
   ],
   "source": [
    "number = \"\"\"37107287533902102798797998220837590246510135740250\n",
    "46376937677490009712648124896970078050417018260538\n",
    "74324986199524741059474233309513058123726617309629\n",
    "91942213363574161572522430563301811072406154908250\n",
    "23067588207539346171171980310421047513778063246676\n",
    "89261670696623633820136378418383684178734361726757\n",
    "28112879812849979408065481931592621691275889832738\n",
    "44274228917432520321923589422876796487670272189318\n",
    "47451445736001306439091167216856844588711603153276\n",
    "70386486105843025439939619828917593665686757934951\n",
    "62176457141856560629502157223196586755079324193331\n",
    "64906352462741904929101432445813822663347944758178\n",
    "92575867718337217661963751590579239728245598838407\n",
    "58203565325359399008402633568948830189458628227828\n",
    "80181199384826282014278194139940567587151170094390\n",
    "35398664372827112653829987240784473053190104293586\n",
    "86515506006295864861532075273371959191420517255829\n",
    "71693888707715466499115593487603532921714970056938\n",
    "54370070576826684624621495650076471787294438377604\n",
    "53282654108756828443191190634694037855217779295145\n",
    "36123272525000296071075082563815656710885258350721\n",
    "45876576172410976447339110607218265236877223636045\n",
    "17423706905851860660448207621209813287860733969412\n",
    "81142660418086830619328460811191061556940512689692\n",
    "51934325451728388641918047049293215058642563049483\n",
    "62467221648435076201727918039944693004732956340691\n",
    "15732444386908125794514089057706229429197107928209\n",
    "55037687525678773091862540744969844508330393682126\n",
    "18336384825330154686196124348767681297534375946515\n",
    "80386287592878490201521685554828717201219257766954\n",
    "78182833757993103614740356856449095527097864797581\n",
    "16726320100436897842553539920931837441497806860984\n",
    "48403098129077791799088218795327364475675590848030\n",
    "87086987551392711854517078544161852424320693150332\n",
    "59959406895756536782107074926966537676326235447210\n",
    "69793950679652694742597709739166693763042633987085\n",
    "41052684708299085211399427365734116182760315001271\n",
    "65378607361501080857009149939512557028198746004375\n",
    "35829035317434717326932123578154982629742552737307\n",
    "94953759765105305946966067683156574377167401875275\n",
    "88902802571733229619176668713819931811048770190271\n",
    "25267680276078003013678680992525463401061632866526\n",
    "36270218540497705585629946580636237993140746255962\n",
    "24074486908231174977792365466257246923322810917141\n",
    "91430288197103288597806669760892938638285025333403\n",
    "34413065578016127815921815005561868836468420090470\n",
    "23053081172816430487623791969842487255036638784583\n",
    "11487696932154902810424020138335124462181441773470\n",
    "63783299490636259666498587618221225225512486764533\n",
    "67720186971698544312419572409913959008952310058822\n",
    "95548255300263520781532296796249481641953868218774\n",
    "76085327132285723110424803456124867697064507995236\n",
    "37774242535411291684276865538926205024910326572967\n",
    "23701913275725675285653248258265463092207058596522\n",
    "29798860272258331913126375147341994889534765745501\n",
    "18495701454879288984856827726077713721403798879715\n",
    "38298203783031473527721580348144513491373226651381\n",
    "34829543829199918180278916522431027392251122869539\n",
    "40957953066405232632538044100059654939159879593635\n",
    "29746152185502371307642255121183693803580388584903\n",
    "41698116222072977186158236678424689157993532961922\n",
    "62467957194401269043877107275048102390895523597457\n",
    "23189706772547915061505504953922979530901129967519\n",
    "86188088225875314529584099251203829009407770775672\n",
    "11306739708304724483816533873502340845647058077308\n",
    "82959174767140363198008187129011875491310547126581\n",
    "97623331044818386269515456334926366572897563400500\n",
    "42846280183517070527831839425882145521227251250327\n",
    "55121603546981200581762165212827652751691296897789\n",
    "32238195734329339946437501907836945765883352399886\n",
    "75506164965184775180738168837861091527357929701337\n",
    "62177842752192623401942399639168044983993173312731\n",
    "32924185707147349566916674687634660915035914677504\n",
    "99518671430235219628894890102423325116913619626622\n",
    "73267460800591547471830798392868535206946944540724\n",
    "76841822524674417161514036427982273348055556214818\n",
    "97142617910342598647204516893989422179826088076852\n",
    "87783646182799346313767754307809363333018982642090\n",
    "10848802521674670883215120185883543223812876952786\n",
    "71329612474782464538636993009049310363619763878039\n",
    "62184073572399794223406235393808339651327408011116\n",
    "66627891981488087797941876876144230030984490851411\n",
    "60661826293682836764744779239180335110989069790714\n",
    "85786944089552990653640447425576083659976645795096\n",
    "66024396409905389607120198219976047599490197230297\n",
    "64913982680032973156037120041377903785566085089252\n",
    "16730939319872750275468906903707539413042652315011\n",
    "94809377245048795150954100921645863754710598436791\n",
    "78639167021187492431995700641917969777599028300699\n",
    "15368713711936614952811305876380278410754449733078\n",
    "40789923115535562561142322423255033685442488917353\n",
    "44889911501440648020369068063960672322193204149535\n",
    "41503128880339536053299340368006977710650566631954\n",
    "81234880673210146739058568557934581403627822703280\n",
    "82616570773948327592232845941706525094512325230608\n",
    "22918802058777319719839450180888072429661980811197\n",
    "77158542502016545090413245809786882778948721859617\n",
    "72107838435069186155435662884062257473692284509516\n",
    "20849603980134001723930671666823555245252804609722\n",
    "53503534226472524250874054075591789781264330331690\"\"\"\n",
    "\n",
    "numList = number.split('\\n')\n",
    "\n",
    "sum=0\n",
    "for num in numList:\n",
    "    sum += int(num)\n",
    "\n",
    "print str(sum)[:10]"
   ]
  },
  {
   "cell_type": "markdown",
   "metadata": {},
   "source": [
    "### 오일러 13번"
   ]
  },
  {
   "cell_type": "code",
   "execution_count": 94,
   "metadata": {
    "collapsed": false
   },
   "outputs": [
    {
     "name": "stdout",
     "output_type": "stream",
     "text": [
      "837799\n"
     ]
    }
   ],
   "source": [
    "def hailstone(n, i):\n",
    "    if n == 1:\n",
    "        return (n, i)\n",
    "    elif n%2 == 0:\n",
    "        return hailstone(n/2, i+1)\n",
    "    elif n%2 == 1:\n",
    "        return hailstone(3*n+1, i+1)\n",
    "\n",
    "max = 0\n",
    "maxNum=0\n",
    "for i in range(1, 1000001):\n",
    "    temp = hailstone(i, 1)\n",
    "    if temp[1] > max:\n",
    "        max = temp[1]\n",
    "        maxNum = i\n",
    "        \n",
    "print maxNum\n",
    "\n",
    "    "
   ]
  },
  {
   "cell_type": "markdown",
   "metadata": {},
   "source": [
    "### 오일러 14번"
   ]
  },
  {
   "cell_type": "code",
   "execution_count": 86,
   "metadata": {
    "collapsed": false,
    "scrolled": true
   },
   "outputs": [
    {
     "name": "stdout",
     "output_type": "stream",
     "text": [
      "137846528820\n"
     ]
    }
   ],
   "source": [
    "arr = [[1 for i in range(21)] for j in range(21)]\n",
    "\n",
    "for i, v in enumerate(arr):\n",
    "    for j, v in enumerate(v):\n",
    "        if i > 0 and j > 0:\n",
    "            arr[i][j] = arr[i-1][j]+arr[i][j-1]\n",
    "\n",
    "print arr[20][20]\n",
    "            \n",
    "\n"
   ]
  },
  {
   "cell_type": "markdown",
   "metadata": {},
   "source": [
    "### 오일러 15번\n",
    "\n",
    "경로의 수 구하기\n",
    "\n",
    "배열을 모두 1로 초기화 후 반복문을 통해 경우의 수를 구하였습니다."
   ]
  },
  {
   "cell_type": "code",
   "execution_count": 62,
   "metadata": {
    "collapsed": false
   },
   "outputs": [
    {
     "name": "stdout",
     "output_type": "stream",
     "text": [
      "get srouce : OK\n"
     ]
    }
   ],
   "source": [
    "import urllib2\n",
    "\n",
    "\n",
    "tech = urllib2.urlopen(\"https://techcrunch.com\").read()\n",
    "whiteHouse = urllib2.urlopen(\"https://www.whitehouse.gov\").read()\n",
    "bbc = urllib2.urlopen(\"http://www.bbc.com/news\").read()\n",
    "billboard = urllib2.urlopen(\"http://www.billboard.com\").read()\n",
    "ufc = urllib2.urlopen(\"http://www.mmafighting.com/ufc\").read()\n",
    "\n",
    "sourceDic = {\"techcrunch.com\":tech,\n",
    "              \"www.whitehouse.gov\": whiteHouse, \n",
    "              \"www.bbc.com\": bbc,\n",
    "              \"www.billboard.com\" : billboard,\n",
    "              \"www.mmafighting.com\" : ufc\n",
    "             }\n",
    "\n",
    "print \"get srouce : OK\""
   ]
  },
  {
   "cell_type": "code",
   "execution_count": 63,
   "metadata": {
    "collapsed": false,
    "scrolled": true
   },
   "outputs": [
    {
     "name": "stdout",
     "output_type": "stream",
     "text": [
      "save frequency file done\n"
     ]
    }
   ],
   "source": [
    "import string\n",
    "import pickle\n",
    "import stopWord\n",
    "def removeTags(html):\n",
    "    tag=''\n",
    "    isTag=False\n",
    "    isScriptCss=False\n",
    "    isComment=False\n",
    "    result=''\n",
    "    for i, c in enumerate(html):\n",
    "        if isTag:\n",
    "            if c=='>':\n",
    "                isTag=False\n",
    "        else:\n",
    "            if c=='<':\n",
    "            #다음에 알파벳이 오는지 체크\n",
    "            #알파벳이면 태그 시작\n",
    "                if html[i+1].isalpha() or html[i+1]=='/' or html[i+1] == '!':\n",
    "                    isTag=True\n",
    "                    #태그가 스크립트나 CSS이면\n",
    "                    if checkTag(html, i)== 'script' or checkTag(html, i)== 'style':\n",
    "                        isScriptCss = True\n",
    "                    elif checkTag(html, i)== '/script' or checkTag(html, i)== '/style':\n",
    "                        isScriptCss = False\n",
    "            elif isScriptCss == False:\n",
    "                result+=c\n",
    "                \n",
    "    return removePunctuation(result)\n",
    "\n",
    "\n",
    "def checkTag(tag, i):\n",
    "    tagName=''\n",
    "    \n",
    "    while True:\n",
    "        i+=1\n",
    "        #print i, tag[i]\n",
    "        #공백이 나오면 종료\n",
    "        if tag[i]==' ' or tag[i] =='>':\n",
    "            break\n",
    "        #공백이 아니면 태그이름으로 판단\n",
    "        else:\n",
    "            tagName+=tag[i]\n",
    "            \n",
    "    return tagName\n",
    "    \n",
    "    \n",
    "def listToDic(_list):\n",
    "    wordDic = {}\n",
    "    for word in _list:\n",
    "        if word not in wordDic:\n",
    "            wordDic[word] = 1\n",
    "        else:\n",
    "            wordDic[word]+=1\n",
    "            \n",
    "    return wordDic\n",
    "            \n",
    "def removePunctuation(source):\n",
    "    return source.translate(None, string.punctuation)\n",
    "\n",
    "def removeStopWord(dic):\n",
    "    for i in dic:\n",
    "        if dic[i] in stopWord.stopWordList:\n",
    "            dic.pop(i, None)\n",
    "    return dic\n",
    "            \n",
    "for i in sourceDic:\n",
    "    removedSource = removeTags(sourceDic[i])\n",
    "    wordDic = listToDic(removedSource.split())\n",
    "    wordDic = removeStopWord(wordDic)\n",
    "    \n",
    "    f = open(\"html/\"+i+\".frequency\", 'w') # 파일 객체를 얻는다.\n",
    "\n",
    "    pickle.dump(wordDic, f) # 파일로 출력(pickling), 복합 객체 출력 \n",
    "    f.close() \n",
    "\n",
    "    \n",
    "print \"save frequency file done\""
   ]
  },
  {
   "cell_type": "code",
   "execution_count": 66,
   "metadata": {
    "collapsed": false
   },
   "outputs": [],
   "source": [
    "#저장한 객체 로드\n",
    "import pickle\n",
    "import glob\n",
    "\n",
    "frequencyList =  glob.glob(\"html/*.frequency\")\n",
    "\n",
    "\n",
    "#f = open(\"html/techcrunch.com.frequency\")"
   ]
  },
  {
   "cell_type": "code",
   "execution_count": null,
   "metadata": {
    "collapsed": true
   },
   "outputs": [],
   "source": [
    "\n"
   ]
  }
 ],
 "metadata": {
  "anaconda-cloud": {},
  "kernelspec": {
   "display_name": "Python [Root]",
   "language": "python",
   "name": "Python [Root]"
  },
  "language_info": {
   "codemirror_mode": {
    "name": "ipython",
    "version": 2
   },
   "file_extension": ".py",
   "mimetype": "text/x-python",
   "name": "python",
   "nbconvert_exporter": "python",
   "pygments_lexer": "ipython2",
   "version": "2.7.12"
  }
 },
 "nbformat": 4,
 "nbformat_minor": 0
}
