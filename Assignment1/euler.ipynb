{
 "cells": [
  {
   "cell_type": "code",
   "execution_count": 42,
   "metadata": {
    "collapsed": false
   },
   "outputs": [
    {
     "name": "stdout",
     "output_type": "stream",
     "text": [
      "233168\n"
     ]
    }
   ],
   "source": [
    "sum = 0\n",
    "\n",
    "for i in range(1, 1000):\n",
    "    if i%3==0 or i%5==0:\n",
    "        sum += i\n",
    "\n",
    "print sum"
   ]
  },
  {
   "cell_type": "markdown",
   "metadata": {},
   "source": [
    "### 오일러 1번문제\n",
    "if문과 논리연산자를 통해 간단히 해결했습니다."
   ]
  },
  {
   "cell_type": "code",
   "execution_count": 45,
   "metadata": {
    "collapsed": false
   },
   "outputs": [
    {
     "name": "stdout",
     "output_type": "stream",
     "text": [
      "4613732\n"
     ]
    }
   ],
   "source": [
    "sum = 0\n",
    "count = 1\n",
    "pi = [0, 1, 1]\n",
    "\n",
    "while pi[2] <= 4000000:\n",
    "    pi[2] = pi[0] + pi[1]\n",
    "    \n",
    "    if pi[2]%2 == 0:\n",
    "        sum = sum + pi[2]\n",
    "        \n",
    "    pi[0] = pi[1]\n",
    "    pi[1] = pi[2]\n",
    "        \n",
    "print sum\n"
   ]
  },
  {
   "cell_type": "markdown",
   "metadata": {},
   "source": [
    "### 오일러 2번문제\n",
    "리스트를 생성하고 피보나치 수열을 구하며 리스트의 값을 변경해주는 방식으로 해결했습니다."
   ]
  },
  {
   "cell_type": "code",
   "execution_count": 53,
   "metadata": {
    "collapsed": false
   },
   "outputs": [],
   "source": [
    "def isPrime(n):\n",
    "    if(n == 2):\n",
    "        return True\n",
    "    else:\n",
    "        for i in range(2, n):\n",
    "            if(n%i == 0):\n",
    "                return False\n",
    "            elif(i == n-1):\n",
    "                return True"
   ]
  },
  {
   "cell_type": "code",
   "execution_count": 54,
   "metadata": {
    "collapsed": false
   },
   "outputs": [
    {
     "name": "stdout",
     "output_type": "stream",
     "text": [
      "6857\n"
     ]
    }
   ],
   "source": [
    "num = 600851475143\n",
    "\n",
    "primeNum = 2\n",
    "\n",
    "while True:\n",
    "    if num == 1:\n",
    "        break\n",
    "    if isPrime(primeNum):\n",
    "        if num%primeNum == 0:\n",
    "            num = num/primeNum\n",
    "        else:\n",
    "            primeNum += 1\n",
    "    else:\n",
    "        primeNum += 1\n",
    "        \n",
    "print primeNum"
   ]
  },
  {
   "cell_type": "markdown",
   "metadata": {
    "collapsed": true
   },
   "source": [
    "### 오일러 3번문제\n",
    "먼저 소수인지 판별하는 함수를 정의 한 후 2부터 차례대로 소수인 수인지 판단 한 후 소수라면 해당 수로 소인수 분해를 해주었습니다.<br/>"
   ]
  },
  {
   "cell_type": "markdown",
   "metadata": {},
   "source": [
    "### 과제 및 수업에 대한 소감\n",
    "요즘 굉장히 인기있는 언어로 다양한 분야에 사용할 수 있는 파이썬을 수업에서 접하게 되어 좋습니다.<br/>\n",
    "파이썬 문법이 기존에 사용했던 언어와 다른 부분이 있어서 혼동되는 경우도 있지만 파이썬 문법에 점점 익숙해지고 있습니다.<br/>\n",
    "간단한 코딩이였지만 파이썬의 유용한 기능들을 사용해 볼 수 있었습니다."
   ]
  },
  {
   "cell_type": "code",
   "execution_count": null,
   "metadata": {
    "collapsed": true
   },
   "outputs": [],
   "source": []
  }
 ],
 "metadata": {
  "anaconda-cloud": {},
  "kernelspec": {
   "display_name": "Python [Root]",
   "language": "python",
   "name": "Python [Root]"
  },
  "language_info": {
   "codemirror_mode": {
    "name": "ipython",
    "version": 2
   },
   "file_extension": ".py",
   "mimetype": "text/x-python",
   "name": "python",
   "nbconvert_exporter": "python",
   "pygments_lexer": "ipython2",
   "version": "2.7.12"
  }
 },
 "nbformat": 4,
 "nbformat_minor": 0
}
