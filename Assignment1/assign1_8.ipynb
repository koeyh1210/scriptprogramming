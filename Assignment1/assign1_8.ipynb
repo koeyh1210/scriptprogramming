{
 "cells": [
  {
   "cell_type": "code",
   "execution_count": 14,
   "metadata": {
    "collapsed": false
   },
   "outputs": [
    {
     "name": "stdout",
     "output_type": "stream",
     "text": [
      "정수를 입력하세요 : 100\n",
      "2 3 5 7 11 13 17 19 23 29 31 37 41 43 47 53 59 61 67 71 73 79 83 89 97\n"
     ]
    }
   ],
   "source": [
    "max = input(\"정수를 입력하세요 : \")\n",
    "\n",
    "for i in range(1, max+1):\n",
    "    if(i == 2):\n",
    "        print i,\n",
    "    else:\n",
    "        for j in range(2, i):\n",
    "            if(i%j == 0):\n",
    "                break\n",
    "            elif(j == i-1):\n",
    "                print i,\n",
    "            "
   ]
  },
  {
   "cell_type": "markdown",
   "metadata": {
    "collapsed": true
   },
   "source": [
    "### assignment 1_8\n",
    "정수를 입력받아 1부터 입력받은 정수까지의 소수 출력하기<br/>\n",
    "2부터 소수인지 판별할 숫자보다 작은 수들로 나누어서 나누어 떨어지는 숫자가 없다면 그 수는 소수인 것으로 판단합니다.\n",
    "효율은 떨어지지만 가장 단순한 방법으로 구현했습니다."
   ]
  },
  {
   "cell_type": "code",
   "execution_count": null,
   "metadata": {
    "collapsed": true
   },
   "outputs": [],
   "source": []
  }
 ],
 "metadata": {
  "anaconda-cloud": {},
  "kernelspec": {
   "display_name": "Python [Root]",
   "language": "python",
   "name": "Python [Root]"
  },
  "language_info": {
   "codemirror_mode": {
    "name": "ipython",
    "version": 2
   },
   "file_extension": ".py",
   "mimetype": "text/x-python",
   "name": "python",
   "nbconvert_exporter": "python",
   "pygments_lexer": "ipython2",
   "version": "2.7.12"
  }
 },
 "nbformat": 4,
 "nbformat_minor": 0
}
