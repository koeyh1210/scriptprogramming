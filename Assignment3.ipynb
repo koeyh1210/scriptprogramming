{
 "cells": [
  {
   "cell_type": "code",
   "execution_count": 13,
   "metadata": {
    "collapsed": false
   },
   "outputs": [
    {
     "name": "stdout",
     "output_type": "stream",
     "text": [
      "[1, 100, 4, 5]\n",
      "[1, 100, 4, 5]\n"
     ]
    }
   ],
   "source": [
    "\n",
    "\n",
    "#1\n",
    "L=[1, 2, 3, 4, 5]\n",
    "L[1:3] = [100]\n",
    "print L\n",
    "\n",
    "#2\n",
    "L=[1, 2, 3, 4, 5]\n",
    "L[1:3] = [(100)]\n",
    "print L"
   ]
  },
  {
   "cell_type": "code",
   "execution_count": 12,
   "metadata": {
    "collapsed": false
   },
   "outputs": [
    {
     "ename": "TypeError",
     "evalue": "can only assign an iterable",
     "output_type": "error",
     "traceback": [
      "\u001b[0;31m---------------------------------------------------------------------------\u001b[0m",
      "\u001b[0;31mTypeError\u001b[0m                                 Traceback (most recent call last)",
      "\u001b[0;32m<ipython-input-12-68d86230ec5b>\u001b[0m in \u001b[0;36m<module>\u001b[0;34m()\u001b[0m\n\u001b[1;32m      1\u001b[0m \u001b[0;31m#3\u001b[0m\u001b[0;34m\u001b[0m\u001b[0;34m\u001b[0m\u001b[0m\n\u001b[1;32m      2\u001b[0m \u001b[0mL\u001b[0m\u001b[0;34m=\u001b[0m\u001b[0;34m[\u001b[0m\u001b[0;36m1\u001b[0m\u001b[0;34m,\u001b[0m \u001b[0;36m2\u001b[0m\u001b[0;34m,\u001b[0m \u001b[0;36m3\u001b[0m\u001b[0;34m,\u001b[0m \u001b[0;36m4\u001b[0m\u001b[0;34m,\u001b[0m \u001b[0;36m5\u001b[0m\u001b[0;34m]\u001b[0m\u001b[0;34m\u001b[0m\u001b[0m\n\u001b[0;32m----> 3\u001b[0;31m \u001b[0mL\u001b[0m\u001b[0;34m[\u001b[0m\u001b[0;36m1\u001b[0m\u001b[0;34m:\u001b[0m\u001b[0;36m3\u001b[0m\u001b[0;34m]\u001b[0m \u001b[0;34m=\u001b[0m \u001b[0;36m100\u001b[0m\u001b[0;34m\u001b[0m\u001b[0m\n\u001b[0m\u001b[1;32m      4\u001b[0m \u001b[0;32mprint\u001b[0m \u001b[0mL\u001b[0m\u001b[0;34m\u001b[0m\u001b[0m\n",
      "\u001b[0;31mTypeError\u001b[0m: can only assign an iterable"
     ]
    }
   ],
   "source": [
    "#3\n",
    "L=[1, 2, 3, 4, 5]\n",
    "L[1:3] = 100\n",
    "print L"
   ]
  },
  {
   "cell_type": "code",
   "execution_count": 11,
   "metadata": {
    "collapsed": false
   },
   "outputs": [
    {
     "ename": "TypeError",
     "evalue": "can only assign an iterable",
     "output_type": "error",
     "traceback": [
      "\u001b[0;31m---------------------------------------------------------------------------\u001b[0m",
      "\u001b[0;31mTypeError\u001b[0m                                 Traceback (most recent call last)",
      "\u001b[0;32m<ipython-input-11-47b0d33cabc0>\u001b[0m in \u001b[0;36m<module>\u001b[0;34m()\u001b[0m\n\u001b[1;32m      1\u001b[0m \u001b[0;31m#4\u001b[0m\u001b[0;34m\u001b[0m\u001b[0;34m\u001b[0m\u001b[0m\n\u001b[1;32m      2\u001b[0m \u001b[0mL\u001b[0m\u001b[0;34m=\u001b[0m\u001b[0;34m[\u001b[0m\u001b[0;36m1\u001b[0m\u001b[0;34m,\u001b[0m \u001b[0;36m2\u001b[0m\u001b[0;34m,\u001b[0m \u001b[0;36m3\u001b[0m\u001b[0;34m,\u001b[0m \u001b[0;36m4\u001b[0m\u001b[0;34m,\u001b[0m \u001b[0;36m5\u001b[0m\u001b[0;34m]\u001b[0m\u001b[0;34m\u001b[0m\u001b[0m\n\u001b[0;32m----> 3\u001b[0;31m \u001b[0mL\u001b[0m\u001b[0;34m[\u001b[0m\u001b[0;36m1\u001b[0m\u001b[0;34m:\u001b[0m\u001b[0;36m3\u001b[0m\u001b[0;34m]\u001b[0m \u001b[0;34m=\u001b[0m \u001b[0;34m(\u001b[0m\u001b[0;36m100\u001b[0m\u001b[0;34m)\u001b[0m\u001b[0;34m\u001b[0m\u001b[0m\n\u001b[0m\u001b[1;32m      4\u001b[0m \u001b[0;32mprint\u001b[0m \u001b[0mL\u001b[0m\u001b[0;34m\u001b[0m\u001b[0m\n",
      "\u001b[0;31mTypeError\u001b[0m: can only assign an iterable"
     ]
    }
   ],
   "source": [
    "#4\n",
    "L=[1, 2, 3, 4, 5]\n",
    "L[1:3] = (100)\n",
    "print L"
   ]
  },
  {
   "cell_type": "code",
   "execution_count": 17,
   "metadata": {
    "collapsed": false
   },
   "outputs": [
    {
     "name": "stdout",
     "output_type": "stream",
     "text": [
      "[1, 100, 101, 102, 4, 5]\n"
     ]
    }
   ],
   "source": [
    "#5\n",
    "L=[1, 2, 3, 4, 5]\n",
    "\n",
    "L[1:3] = (100, 101, 102)\n",
    "print L"
   ]
  },
  {
   "cell_type": "code",
   "execution_count": 19,
   "metadata": {
    "collapsed": false
   },
   "outputs": [
    {
     "name": "stdout",
     "output_type": "stream",
     "text": [
      "[1, 100, 101, 102, 103, 4, 5]\n"
     ]
    }
   ],
   "source": [
    "#6\n",
    "L=[1, 2, 3, 4, 5]\n",
    "L[1:3] = [100, 101, 102]\n",
    "print L"
   ]
  },
  {
   "cell_type": "code",
   "execution_count": 20,
   "metadata": {
    "collapsed": false
   },
   "outputs": [
    {
     "name": "stdout",
     "output_type": "stream",
     "text": [
      "[1, (100, 101, 102), 4, 5]\n"
     ]
    }
   ],
   "source": [
    "#7\n",
    "L=[1, 2, 3, 4, 5]\n",
    "L[1:3] = [(100, 101, 102)]\n",
    "print L"
   ]
  },
  {
   "cell_type": "code",
   "execution_count": 21,
   "metadata": {
    "collapsed": false
   },
   "outputs": [
    {
     "name": "stdout",
     "output_type": "stream",
     "text": [
      "[1, [100, 101, 102], 4, 5]\n"
     ]
    }
   ],
   "source": [
    "#8\n",
    "L=[1, 2, 3, 4, 5]\n",
    "L[1:3] = [[100, 101, 102]]\n",
    "print L"
   ]
  },
  {
   "cell_type": "code",
   "execution_count": 35,
   "metadata": {
    "collapsed": false
   },
   "outputs": [
    {
     "name": "stdout",
     "output_type": "stream",
     "text": [
      "Python and World Hello\n",
      "PythonandWorldHello\n"
     ]
    }
   ],
   "source": [
    "s = 'Hello World and Python'\n",
    "a = s.split()\n",
    "a.reverse()\n",
    "\n",
    "b =' '.join(a)\n",
    "\n",
    "print b\n",
    "\n",
    "b = ''.join(a)\n",
    "print b"
   ]
  },
  {
   "cell_type": "markdown",
   "metadata": {},
   "source": [
    "### 3_2\n",
    "split과 join 메소드를 사용해서 결과물 출력"
   ]
  },
  {
   "cell_type": "code",
   "execution_count": 39,
   "metadata": {
    "collapsed": false
   },
   "outputs": [
    {
     "name": "stdout",
     "output_type": "stream",
     "text": [
      "[1, 2, 3, 1, 2, 3, 1, 2, 3]\n",
      "[[1, 2, 3], [1, 2, 3], [1, 2, 3]]\n",
      "[1, 2, 3, 1, 2, 3, 1, 2, 3]\n",
      "[[0, 2, 3], [0, 2, 3], [0, 2, 3]]\n"
     ]
    }
   ],
   "source": [
    "a = [1, 2, 3]\n",
    "b = a * 3\n",
    "c = [a] * 3\n",
    "\n",
    "print b\n",
    "print c\n",
    "\n",
    "a[0]=0\n",
    "\n",
    "# 1)\n",
    "print b\n",
    "print c"
   ]
  },
  {
   "cell_type": "markdown",
   "metadata": {},
   "source": [
    "### 3_3\n",
    "2) b에는 리스트 a의 각 원소들을 순차적으로 포함하는 새로운 리스트를 생성한다. 이때 각 원소는 a각 원소의 값을 deepcopy한 것이다.\n",
    "c는 리스트 a전체를 하나의 원소로 하는 리스트를 생성한다. 때문에 a의 값을 변경하면 b는 아무 변경점이 없지만 c는 a를 원소로 갖고 있기 때문에 변경점이 생기게 된다."
   ]
  },
  {
   "cell_type": "code",
   "execution_count": 53,
   "metadata": {
    "collapsed": false
   },
   "outputs": [
    {
     "name": "stdout",
     "output_type": "stream",
     "text": [
      "['first star', 'second star', 'third star']\n",
      "['first star', 'second star', 'third star']\n"
     ]
    }
   ],
   "source": [
    "s = '  first star   :   second star   :    third star  '\n",
    "s = s.split(':')\n",
    "\n",
    "l_for = []\n",
    "\n",
    "\n",
    "for word in s:\n",
    "    l_for.append(word.strip())\n",
    "\n",
    "print l_for\n",
    "\n",
    "l_com = [word.strip() for word in s]\n",
    "\n",
    "print l_com"
   ]
  },
  {
   "cell_type": "markdown",
   "metadata": {},
   "source": [
    "### 3_4\n",
    "\n",
    "1.  for ~ in 문을 이용한 코드를 작성하시오. -> for문으로 생성한 리스트 l_for\n",
    "\n",
    "2. 리스트 내포(list comprehension)를 이용한 코드를 작성하시오. -> list comprehension으로 생성한 리스트 l_com"
   ]
  },
  {
   "cell_type": "code",
   "execution_count": 52,
   "metadata": {
    "collapsed": false
   },
   "outputs": [
    {
     "name": "stdout",
     "output_type": "stream",
     "text": [
      "55 55 25 25\n"
     ]
    }
   ],
   "source": [
    "#리스트의 모든 원소 더하기 for문으로 구현\n",
    "def addall(listA):\n",
    "    sum  = 0\n",
    "    for i in listA:\n",
    "        sum+=i\n",
    "        \n",
    "    return sum\n",
    "\n",
    "#리스트의 모든 원소 더하기 리스트 내포문으로 구현\n",
    "def addall_2(listA):\n",
    "    return sum([i for i in listA])\n",
    "\n",
    "#리스트의 모든 홀수 더하기 for문으로 구현\n",
    "def addallodd(listA):\n",
    "    sum = 0\n",
    "    for i in listA:\n",
    "        if i%2==1:\n",
    "            sum+=i\n",
    "    return sum\n",
    "#리스트의 모든 홀수 더하기 리스트 내포문으로 구현    \n",
    "def addallodd_2(listA):\n",
    "    return sum([i for i in listA if i%2==1])\n",
    "\n",
    "#결과 확인\n",
    "li = [1,2,3,4,5,6,7,8,9,10]\n",
    "\n",
    "print addall(li), addall_2(li), addallodd(li), addallodd_2(li)"
   ]
  },
  {
   "cell_type": "markdown",
   "metadata": {},
   "source": [
    "### 3_5 \n",
    "\n",
    "각각 for문과 리스트 내포문을 사용해서 함수를 구현하였습니다."
   ]
  },
  {
   "cell_type": "code",
   "execution_count": 117,
   "metadata": {
    "collapsed": false
   },
   "outputs": [
    {
     "name": "stdout",
     "output_type": "stream",
     "text": [
      "{'high': [4, 5, 6], 'low': [1, 2, 3]}\n",
      "{'high': [4, 5, 6], 'low': [1, 2, 3]}\n",
      "{'high': [4, 5, 6], 'low': [1, 2, 3]}\n",
      "\n",
      "{'high': [4, 500, 6], 'low': [10, 20, 30]}\n",
      "{'high': [4, 500, 6], 'low': [10, 20, 30]}\n",
      "{'high': [4, 500, 6], 'low': [1, 2, 3]}\n"
     ]
    }
   ],
   "source": [
    "L1 = [1, 2, 3]\n",
    "L2 = [4, 5, 6]\n",
    "d = {'low':L1, 'high':L2}\n",
    "e = d\n",
    "f = d.copy()\n",
    "print d\n",
    "print e\n",
    "print f\n",
    "print\n",
    "d['low'] = [10, 20, 30]\n",
    "d['high'][1] = 500\n",
    "print d\n",
    "print e\n",
    "print f\n"
   ]
  },
  {
   "cell_type": "markdown",
   "metadata": {},
   "source": [
    "### 3_6\n",
    "e = d\n",
    "f = d.copy() 모두 shallow copy라는 점이 같지만 \n",
    "\n",
    "e는 d객체에 대한 shallow copy가 이루어지고, f는 새로운 dictionary를 생성한 후에 d의 각 원소들에 대한 shallow copy를 한다는 점이 다르다.\n"
   ]
  },
  {
   "cell_type": "code",
   "execution_count": 89,
   "metadata": {
    "collapsed": false
   },
   "outputs": [
    {
     "name": "stdout",
     "output_type": "stream",
     "text": [
      "five 5\n",
      "four 4\n",
      "one 1\n",
      "three 3\n",
      "two 2\n",
      "------------------------------\n",
      "two 2\n",
      "three 3\n",
      "one 1\n",
      "four 4\n",
      "five 5\n",
      "------------------------------\n",
      "five 5\n",
      "four 4\n",
      "three 3\n",
      "two 2\n",
      "one 1\n",
      "------------------------------\n",
      "one 1\n",
      "two 2\n",
      "three 3\n",
      "four 4\n",
      "five 5\n"
     ]
    }
   ],
   "source": [
    "d = {'one':1, 'two':2, 'three':3, 'four':4, 'five':5}\n",
    "\n",
    "d_keys = d.keys()\n",
    "d_values = d.values()\n",
    "\n",
    "#1) 키의 알파벳 오름차순 순서대로 튜플 (키, 값)을 차례대로 출력하시오.\n",
    "d_keys.sort()\n",
    "\n",
    "for i in d_keys:\n",
    "    print i, d.get(i)\n",
    "    \n",
    "print '-'*30\n",
    "\n",
    "#2) 키의 알파벳 내림차순 순서대로 튜플 (키, 값)을 차례대로 출력하시오.\n",
    "d_keys.sort(reverse=True)\n",
    "for i in d_keys:\n",
    "    print i, d.get(i)\n",
    "    \n",
    "print '-'*30\n",
    "\n",
    "#3) 값의 오름차순 순서대로 튜플 (키, 값)을 차례대로 출력하시오.\n",
    "for i in sorted(d, key=d.get, reverse=True):\n",
    "    print i, d.get(i)\n",
    "\n",
    "\n",
    "print '-'*30\n",
    "\n",
    "#4) 값의 내림차순 순서대로 튜플 (키, 값)을 차례대로 출력하시오.\n",
    "for i in sorted(d, key=d.get):\n",
    "    print i, d.get(i)\n"
   ]
  },
  {
   "cell_type": "markdown",
   "metadata": {},
   "source": [
    "### 3_7\n"
   ]
  },
  {
   "cell_type": "code",
   "execution_count": 163,
   "metadata": {
    "collapsed": false
   },
   "outputs": [
    {
     "name": "stdout",
     "output_type": "stream",
     "text": [
      "10001번째 = 104729\n"
     ]
    }
   ],
   "source": [
    "def isPrime(num):\n",
    "    if num == 2 :\n",
    "        return True\n",
    "    \n",
    "    elif num > 2:\n",
    "        for i in range(2, int((num)**(0.5))+1):\n",
    "            if num%i == 0:\n",
    "                return False\n",
    "        \n",
    "        return True\n",
    "    \n",
    "\n",
    "i = 2\n",
    "c = 1\n",
    "while (c < 10002):\n",
    "    if isPrime(i):\n",
    "        c+=1\n",
    "        if c==10001:\n",
    "            print `c` + '번째 = ' + `i`\n",
    "\n",
    "    \n",
    "    i+=1\n",
    "     \n",
    "        "
   ]
  },
  {
   "cell_type": "markdown",
   "metadata": {},
   "source": [
    "### 오일러 7번"
   ]
  },
  {
   "cell_type": "code",
   "execution_count": 125,
   "metadata": {
    "collapsed": false
   },
   "outputs": [
    {
     "name": "stdout",
     "output_type": "stream",
     "text": [
      "40824\n"
     ]
    }
   ],
   "source": [
    "s = str(7316717653133062491922511967442657474235534919493496983520312774506326239578318016984801869478851843858615607891129494954595017379583319528532088055111254069874715852386305071569329096329522744304355766896648950445244523161731856403098711121722383113622298934233803081353362766142828064444866452387493035890729629049156044077239071381051585930796086670172427121883998797908792274921901699720888093776657273330010533678812202354218097512545405947522435258490771167055601360483958644670632441572215539753697817977846174064955149290862569321978468622482839722413756570560574902614079729686524145351004748216637048440319989000889524345065854122758866688116427171479924442928230863465674813919123162824586178664583591245665294765456828489128831426076900422421902267105562632111110937054421750694165896040807198403850962455444362981230987879927244284909188845801561660979191338754992005240636899125607176060588611646710940507754100225698315520005593572972571636269561882670428252483600823257530420752963450)\n",
    "\n",
    "max = 0\n",
    "\n",
    "startIndex = 0\n",
    "\n",
    "for i in range(0, len(s)-5):\n",
    "    temp=1\n",
    "    \n",
    "    for j in range(i, i+5):\n",
    "        temp *= int(s[j])\n",
    "    \n",
    "    if temp > max:\n",
    "        max = temp\n",
    "\n",
    "print max        \n",
    "\n"
   ]
  },
  {
   "cell_type": "markdown",
   "metadata": {},
   "source": [
    "### 오일러 8번\n",
    "\n",
    "주어진 숫자를 문자열로 바꾼 뒤 5자리씩 읽어서 각 값을 곱하여 최대값을 구하였습니다."
   ]
  },
  {
   "cell_type": "code",
   "execution_count": 156,
   "metadata": {
    "collapsed": false
   },
   "outputs": [
    {
     "name": "stdout",
     "output_type": "stream",
     "text": [
      "31875000\n",
      "done\n"
     ]
    }
   ],
   "source": [
    "# a+b+c =1000인 피타고라스 수\n",
    "\n",
    "findNum=False\n",
    "\n",
    "for a in range(1, 1000):\n",
    "    for b in range(1, 1000):\n",
    "        for c in range(1, 1000):\n",
    "            if (a+b+c==1000) and ((a < b) or (b<c)) and (a**2 + b**2 == c**2):\n",
    "                print a*b*c\n",
    "                findNum=True\n",
    "                break\n",
    "    if findNum:\n",
    "        break\n",
    "        \n",
    "print \"done\""
   ]
  },
  {
   "cell_type": "markdown",
   "metadata": {},
   "source": [
    "### 오일러 9번\n",
    "\n",
    "주어진 숫자를 문자열로 바꾼 뒤 5자리씩 읽어서 각 값을 곱하여 최대값을 구하였습니다."
   ]
  },
  {
   "cell_type": "code",
   "execution_count": null,
   "metadata": {
    "collapsed": true
   },
   "outputs": [],
   "source": []
  }
 ],
 "metadata": {
  "kernelspec": {
   "display_name": "Python [Root]",
   "language": "python",
   "name": "Python [Root]"
  },
  "language_info": {
   "codemirror_mode": {
    "name": "ipython",
    "version": 2
   },
   "file_extension": ".py",
   "mimetype": "text/x-python",
   "name": "python",
   "nbconvert_exporter": "python",
   "pygments_lexer": "ipython2",
   "version": "2.7.12"
  }
 },
 "nbformat": 4,
 "nbformat_minor": 0
}
